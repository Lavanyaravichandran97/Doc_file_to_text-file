{
 "cells": [
  {
   "cell_type": "code",
   "execution_count": 1,
   "metadata": {},
   "outputs": [],
   "source": [
    "import os\n",
    "import docx2txt\n",
    "f=os.listdir(r\"...input\\doc\\\\\")\n",
    "n=os.listdir(r\"...input\\doc\\\\\")\n",
    "name=[i[:-5] for i in n if i.endswith('.docx')]\n",
    "file=[i for i in f if i.endswith('docx')]\n",
    "for i,j in zip(file,name):\n",
    "    # Passing docx file to process function\n",
    "    text = docx2txt.process(r\"...input\\doc\\%s\"%i)\n",
    "    with open(\"...input/text_file/%s.txt\"%j, \"w\",encoding=\"utf-8\") as text_file:\n",
    "        print(text, file=text_file)"
   ]
  }
 ],
 "metadata": {
  "kernelspec": {
   "display_name": "Python 3",
   "language": "python",
   "name": "python3"
  },
  "language_info": {
   "codemirror_mode": {
    "name": "ipython",
    "version": 3
   },
   "file_extension": ".py",
   "mimetype": "text/x-python",
   "name": "python",
   "nbconvert_exporter": "python",
   "pygments_lexer": "ipython3",
   "version": "3.7.1"
  }
 },
 "nbformat": 4,
 "nbformat_minor": 2
}
