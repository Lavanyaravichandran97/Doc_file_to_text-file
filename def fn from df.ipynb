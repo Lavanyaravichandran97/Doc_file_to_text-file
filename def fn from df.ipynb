{
 "cells": [
  {
   "cell_type": "code",
   "execution_count": null,
   "metadata": {},
   "outputs": [],
   "source": [
    "data_path=r'\\\\lsv16171.live.mdu.local\\home$\\zz2841\\Documents\\ML Docs\\document classification'\n",
    "def load_data(path):\n",
    "    my_data=load_files(path)\n",
    "    X,y=my_data.data,my_data.target"
   ]
  },
  {
   "cell_type": "code",
   "execution_count": null,
   "metadata": {},
   "outputs": [],
   "source": [
    "load_data(load_data)"
   ]
  },
  {
   "cell_type": "code",
   "execution_count": null,
   "metadata": {},
   "outputs": [],
   "source": [
    "save_path=r'\\\\lsv16171.live.mdu.local\\home$\\zz2841\\Documents\\ML Docs\\document classification\\my_data.csv'\n",
    "def save_data_frame(path):\n",
    "    df=pd.DataFrame({'filenames':[my_data.filenames],'target':[my_data.target]})\n",
    "    df=explode(df,['filenames','target'],fill_value='',preserve_index=True)\n",
    "    df['target']=df['target'].replace([0,1,2,3,4],['3rd Party Expert','GMC','MDU Invoices','NHSLA','Solicitor Contacts'])\n",
    "    df.to_csv(path,index=False)\n",
    "    return df.head()"
   ]
  },
  {
   "cell_type": "code",
   "execution_count": null,
   "metadata": {},
   "outputs": [],
   "source": [
    "save_data_frame(save_path)"
   ]
  },
  {
   "cell_type": "code",
   "execution_count": null,
   "metadata": {},
   "outputs": [],
   "source": [
    "def pre_processing():\n",
    "    documents=[]\n",
    "    from nltk.stem import WordNetLemmatizer\n",
    "    stemmer=WordNetLemmatizer()\n",
    "    for sen in range(0,len(X)):\n",
    "        document=re.sub(r'\\W','',str(X[sen]))\n",
    "        document=re.sub(r'\\s+[a-zA-Z]\\s+','',document)\n",
    "        document=re.sub(r'\\s^[a-zA-Z]\\s+','',document)\n",
    "        document=re.sub(r'\\s+','',document,flags=re.I)\n",
    "        document=re.sub(r'^b\\s+','',document)\n",
    "        document=document.lower()\n",
    "        document=document.split()\n",
    "        # document=[stemmer.lemmatize(word) for word in document]\n",
    "        document=''.join(document)\n",
    "        documents.append(document)\n",
    "        return documents[0]"
   ]
  },
  {
   "cell_type": "code",
   "execution_count": null,
   "metadata": {},
   "outputs": [],
   "source": [
    "pre_processing()"
   ]
  },
  {
   "cell_type": "code",
   "execution_count": null,
   "metadata": {},
   "outputs": [],
   "source": [
    "from sklearn.feature_extraction.text import CountVectorizer\n",
    "def tokenizer():\n",
    "    vectorizer = CountVectorizer(documnts)\n",
    "    X = vectorizer.fit_transform(text)\n",
    "\n",
    "    from sklearn.feature_extraction.text import TfidfTransformer\n",
    "    tfidfconvertor=TfidfTransformer()\n",
    "    X=tfidfconvertor.fit_transform(decuments).toarray()"
   ]
  },
  {
   "cell_type": "code",
   "execution_count": null,
   "metadata": {},
   "outputs": [],
   "source": [
    "tokenizer()"
   ]
  },
  {
   "cell_type": "code",
   "execution_count": null,
   "metadata": {},
   "outputs": [],
   "source": [
    "from sklearn.model_selection import train_test_split\n",
    "def predict():\n",
    "    X_train,X_test,y_train,y_test=train_test_split(X,y,test_size=0.20,shuffle=True)\n",
    "\n",
    "    '''training the data in RF model'''\n",
    "    from sklearn.ensemble._forest import RandomForestClassifier\n",
    "    from sklearn.metrics import classification_report, confusion_matrix, accuracy_score\n",
    "    classifier=RandomForestClassifier()\n",
    "    classifier.fit(X_train,y_train)\n",
    "    y_pred=classifier.predict(X_test)\n",
    "    print(accuracy_score(y_test,y_pred))\n"
   ]
  },
  {
   "cell_type": "code",
   "execution_count": null,
   "metadata": {},
   "outputs": [],
   "source": [
    "predict()"
   ]
  }
 ],
 "metadata": {
  "kernelspec": {
   "display_name": "Python 3",
   "language": "python",
   "name": "python3"
  },
  "language_info": {
   "codemirror_mode": {
    "name": "ipython",
    "version": 3
   },
   "file_extension": ".py",
   "mimetype": "text/x-python",
   "name": "python",
   "nbconvert_exporter": "python",
   "pygments_lexer": "ipython3",
   "version": "3.6.10"
  }
 },
 "nbformat": 4,
 "nbformat_minor": 4
}
